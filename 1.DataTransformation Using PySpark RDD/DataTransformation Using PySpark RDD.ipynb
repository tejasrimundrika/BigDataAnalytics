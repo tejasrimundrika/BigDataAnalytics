{
 "cells": [
  {
   "cell_type": "code",
   "execution_count": 1,
   "id": "3cd60fd5-3bc0-43dd-92cd-043c03461873",
   "metadata": {},
   "outputs": [
    {
     "data": {
      "text/html": [
       "\n",
       "        <div>\n",
       "            <p><b>SparkContext</b></p>\n",
       "\n",
       "            <p><a href=\"http://LAPTOP-V083THQI:4040\">Spark UI</a></p>\n",
       "\n",
       "            <dl>\n",
       "              <dt>Version</dt>\n",
       "                <dd><code>v3.5.6</code></dd>\n",
       "              <dt>Master</dt>\n",
       "                <dd><code>local[*]</code></dd>\n",
       "              <dt>AppName</dt>\n",
       "                <dd><code>PySparkShell</code></dd>\n",
       "            </dl>\n",
       "        </div>\n",
       "        "
      ],
      "text/plain": [
       "<SparkContext master=local[*] appName=PySparkShell>"
      ]
     },
     "execution_count": 1,
     "metadata": {},
     "output_type": "execute_result"
    }
   ],
   "source": [
    "sc"
   ]
  },
  {
   "cell_type": "markdown",
   "id": "3253be20-6209-45c0-9311-f556ef69c3d5",
   "metadata": {},
   "source": [
    "# Perform simple data transformation like filtering even numbers from a given list using PySpark RDD"
   ]
  },
  {
   "cell_type": "code",
   "execution_count": 2,
   "id": "104887cc-0d41-44e7-8c23-4107377ed809",
   "metadata": {},
   "outputs": [],
   "source": [
    " import random"
   ]
  },
  {
   "cell_type": "code",
   "execution_count": 3,
   "id": "8d8f8021-b3a0-428f-8559-cec15aa5108a",
   "metadata": {},
   "outputs": [
    {
     "name": "stdout",
     "output_type": "stream",
     "text": [
      "Original List:\n",
      "[758, 789, 294, 543, 573, 88, 568, 985, 611, 223, 862, 448, 367, 852, 497, 795, 144, 126, 153, 818, 319, 681, 642, 468, 976, 454, 27, 606, 683, 891, 764, 16, 436, 374, 183, 164, 302, 340, 840, 241, 978, 200, 352, 903, 47, 878, 138, 275, 787, 889, 922, 983, 941, 304, 684, 220, 385, 563, 782, 936, 358, 99, 738, 788, 760, 550, 751, 403, 221, 956, 208, 574, 433, 844, 382, 861, 229, 373, 388, 204, 92, 420, 792, 1000, 871, 34, 1, 150, 730, 240, 833, 630, 91, 357, 974, 880, 665, 119, 882, 109]\n"
     ]
    }
   ],
   "source": [
    "random_numbers = [random.randint(1, 1000) for _ in range(100)]\n",
    "print(\"Original List:\")\n",
    "print(random_numbers)"
   ]
  },
  {
   "cell_type": "code",
   "execution_count": 4,
   "id": "d288fcac-76f8-4415-a8ef-998bcce07461",
   "metadata": {},
   "outputs": [],
   "source": [
    "numbers_rdd = sc.parallelize(random_numbers)"
   ]
  },
  {
   "cell_type": "code",
   "execution_count": 5,
   "id": "16c4e2f6-7a91-4a4f-ba95-5d3a522019d3",
   "metadata": {},
   "outputs": [],
   "source": [
    "even_numbers_rdd = numbers_rdd.filter(lambda x: x % 2 == 0)"
   ]
  },
  {
   "cell_type": "code",
   "execution_count": 6,
   "id": "7180831c-4363-4e51-abc8-4ffe2492f8a4",
   "metadata": {},
   "outputs": [
    {
     "name": "stdout",
     "output_type": "stream",
     "text": [
      "\n",
      "Even Numbers:\n",
      "[758, 294, 88, 568, 862, 448, 852, 144, 126, 818, 642, 468, 976, 454, 606, 764, 16, 436, 374, 164, 302, 340, 840, 978, 200, 352, 878, 138, 922, 304, 684, 220, 782, 936, 358, 738, 788, 760, 550, 956, 208, 574, 844, 382, 388, 204, 92, 420, 792, 1000, 34, 150, 730, 240, 630, 974, 880, 882]\n"
     ]
    }
   ],
   "source": [
    "even_numbers = even_numbers_rdd.collect()\n",
    "print(\"\\nEven Numbers:\")\n",
    "print(even_numbers)"
   ]
  },
  {
   "cell_type": "code",
   "execution_count": null,
   "id": "bd9dadfa-fc39-4da7-b2e1-93dbf089a4e9",
   "metadata": {},
   "outputs": [],
   "source": []
  }
 ],
 "metadata": {
  "kernelspec": {
   "display_name": "Python 3 (ipykernel)",
   "language": "python",
   "name": "python3"
  },
  "language_info": {
   "codemirror_mode": {
    "name": "ipython",
    "version": 3
   },
   "file_extension": ".py",
   "mimetype": "text/x-python",
   "name": "python",
   "nbconvert_exporter": "python",
   "pygments_lexer": "ipython3",
   "version": "3.11.9"
  }
 },
 "nbformat": 4,
 "nbformat_minor": 5
}
