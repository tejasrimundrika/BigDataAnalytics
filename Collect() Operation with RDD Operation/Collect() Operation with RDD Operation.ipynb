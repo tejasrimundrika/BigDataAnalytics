{
 "cells": [
  {
   "cell_type": "markdown",
   "id": "46b9d8d9-e51d-4b42-a77f-e779be548ec0",
   "metadata": {},
   "source": [
    "# Explore how the collect() operation works in PySpark using a dataset with basic RDD operations."
   ]
  },
  {
   "cell_type": "code",
   "execution_count": null,
   "id": "aec8cc58-91e3-49dd-a715-a70447d221b1",
   "metadata": {},
   "outputs": [],
   "source": [
    "sc"
   ]
  },
  {
   "cell_type": "code",
   "execution_count": null,
   "id": "30ddad81-80cf-4097-ab4c-c1486d38273e",
   "metadata": {},
   "outputs": [],
   "source": [
    "data = sc.textFile(\"students.csv\")"
   ]
  },
  {
   "cell_type": "code",
   "execution_count": null,
   "id": "f3014756-ce36-4c2c-9aaf-e2a96a425182",
   "metadata": {},
   "outputs": [],
   "source": [
    "header = data.first()\n",
    "rows = data.filter(lambda line: line != header)"
   ]
  },
  {
   "cell_type": "code",
   "execution_count": null,
   "id": "069be893-b1ff-4057-aa8c-5e528f6f73c0",
   "metadata": {},
   "outputs": [],
   "source": [
    "split_rdd = rows.map(lambda line: line.split(\",\"))"
   ]
  },
  {
   "cell_type": "code",
   "execution_count": null,
   "id": "eaae291d-a44b-49c6-868f-651d6772ea0d",
   "metadata": {},
   "outputs": [],
   "source": [
    "print(\"=== Student Dataset (first 10 rows) ===\")\n",
    "for row in split_rdd.take(10):   # you can change 10 → 20, 50 etc.\n",
    "    print(row)"
   ]
  },
  {
   "cell_type": "code",
   "execution_count": null,
   "id": "54634fc7-9ca2-43df-86de-45947cc5baf4",
   "metadata": {},
   "outputs": [],
   "source": [
    "students_rdd = split_rdd.map(lambda x: (int(x[0]), x[1], int(x[2]), x[3], int(x[4]), int(x[5]), int(x[6])))"
   ]
  },
  {
   "cell_type": "code",
   "execution_count": null,
   "id": "70ba3583-9047-434d-b6ec-14bbfbf33fb4",
   "metadata": {},
   "outputs": [],
   "source": [
    "avg_marks_rdd = students_rdd.map(lambda x: (x[1], (x[4] + x[5] + x[6]) / 3))"
   ]
  },
  {
   "cell_type": "code",
   "execution_count": null,
   "id": "274a506e-beaf-4ccd-8f97-1cda9567e679",
   "metadata": {},
   "outputs": [],
   "source": []
  }
 ],
 "metadata": {
  "kernelspec": {
   "display_name": "Python 3 (ipykernel)",
   "language": "python",
   "name": "python3"
  },
  "language_info": {
   "name": ""
  }
 },
 "nbformat": 4,
 "nbformat_minor": 5
}
