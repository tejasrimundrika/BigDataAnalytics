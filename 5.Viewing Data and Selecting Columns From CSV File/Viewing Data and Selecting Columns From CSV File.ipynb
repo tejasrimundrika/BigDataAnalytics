{
 "cells": [
  {
   "cell_type": "code",
   "execution_count": null,
   "id": "406794cb-91d7-4fa8-8b8e-54b75e1c19d9",
   "metadata": {},
   "outputs": [],
   "source": []
  }
 ],
 "metadata": {
  "kernelspec": {
   "display_name": "",
   "name": ""
  },
  "language_info": {
   "name": ""
  }
 },
 "nbformat": 4,
 "nbformat_minor": 5
}
